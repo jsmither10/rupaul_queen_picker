{
 "cells": [
  {
   "cell_type": "code",
   "execution_count": 9,
   "metadata": {},
   "outputs": [
    {
     "name": "stdout",
     "output_type": "stream",
     "text": [
      "Ok slay, I see you with a hot one...\n",
      "   Queens  Stat 1  Stat 2  Stat 3  Stat 4  Total\n",
      "14  Spice      20      10       2      -5     27\n",
      "Well dumb pick because they gone but...\n",
      "   Queens  Stat 1  Stat 2  Stat 3  Stat 4  Total\n",
      "15  Sugar      10       0       0      -5      5\n"
     ]
    }
   ],
   "source": [
    "import pandas as pd\n",
    "import numpy as np\n",
    "\n",
    "#read in filepath of Queens file\n",
    "filepath = pd.read_csv(r\"C:\\Users\\15023\\Code-Louisville\\rupaul_queen_picker\\Queens - Sheet1.csv\")\n",
    "\n",
    "#turn dataset into dataframe\n",
    "df = pd.DataFrame(filepath)\n",
    "\n",
    "#make stat list \n",
    "stats = df[['Queens', \"Stat 1\", 'Stat 2', 'Stat 3', 'Stat 4', 'Total']]\n",
    "\n",
    "#call just eliminated queens\n",
    "eliminated = df[df['Eliminated'] == 'Yes'][['Queens']]\n",
    "\n",
    "#call only queens still active \n",
    "alive = df[df['Eliminated'] == 'No'][['Queens', \"Total\"]]\n",
    "\n",
    "#create stat for average points per queen for those still alive\n",
    "meantotal = alive['Total'].mean()\n",
    "\n",
    "#defines top queens by average\n",
    "top_queens = df[df['Total'] > meantotal][['Queens', 'Total']]\n",
    "\n",
    "\n",
    "#function to pick 3 queens who are still 'alive' in the competition\n",
    "def queen_picker():\n",
    "    pick_queens = pd.DataFrame(alive, columns = ['Queens','Total'] )\n",
    "    pick_queen = pick_queens.sample(n=3)\n",
    "    for x in pick_queen['Queens']:\n",
    "        print(x)\n",
    "\n",
    "#the whole thing\n",
    "list_of_inputs = ['No listen here I will tell you-', 'Give Me All the Stats', 'Shantay You Stay, Okur', 'Spill the Sashay Away List', 'Top Queens Only', 'Pick Those Hoes for Me']\n",
    "options = '\\n'.join('\\t' + option for option in list_of_inputs)\n",
    "\n",
    "while True:\n",
    "    first_question = input('What do you wanna know (betch)?\\n' + options)\n",
    "    \n",
    "    if first_question == \"No listen here I will tell you-\":\n",
    "        queeninput = input(\"Ok then, who is your top Queen?\")\n",
    "        if queeninput in df['Queens'].values:\n",
    "            if queeninput in alive['Queens'].values:\n",
    "                print('Ok slay, I see you with a hot one...\\n' + str(df[df['Queens'] == queeninput][['Queens', \"Stat 1\", 'Stat 2', 'Stat 3', 'Stat 4', 'Total']]))\n",
    "            elif queeninput in eliminated['Queens'].values:\n",
    "                print('Well dumb pick because they gone but...\\n' + str(df[df['Queens'] == queeninput][['Queens', \"Stat 1\", 'Stat 2', 'Stat 3', 'Stat 4', 'Total']]))\n",
    "        else:\n",
    "            print(\"Sorry, you're a dumb bitch. That isn't a current Queen\")\n",
    "    elif first_question == 'Give Me All the Stats':\n",
    "        print(stats)\n",
    "    elif first_question == 'Shantay You Stay, Okur':\n",
    "        print(alive)\n",
    "    elif first_question == 'Spill the Sashay Away List':\n",
    "        print(eliminated)\n",
    "    elif first_question == 'Top Queens Only':\n",
    "        print(top_queens)\n",
    "    elif first_question == 'Pick Those Hoes for Me':\n",
    "        queen_picker()\n",
    "    other = input('Want to know more (y/n)?')\n",
    "    if other.lower() == 'n':\n",
    "        break"
   ]
  },
  {
   "cell_type": "code",
   "execution_count": null,
   "metadata": {},
   "outputs": [],
   "source": []
  }
 ],
 "metadata": {
  "kernelspec": {
   "display_name": "Python 3 (ipykernel)",
   "language": "python",
   "name": "python3"
  },
  "language_info": {
   "codemirror_mode": {
    "name": "ipython",
    "version": 3
   },
   "file_extension": ".py",
   "mimetype": "text/x-python",
   "name": "python",
   "nbconvert_exporter": "python",
   "pygments_lexer": "ipython3",
   "version": "3.11.1"
  },
  "vscode": {
   "interpreter": {
    "hash": "a707eb36b0d61de6ed8d6f5823b1434365878aba98099edf5aabb4bb39b95d94"
   }
  }
 },
 "nbformat": 4,
 "nbformat_minor": 2
}
